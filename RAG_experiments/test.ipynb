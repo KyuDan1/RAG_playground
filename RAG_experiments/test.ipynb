{
 "cells": [
  {
   "cell_type": "code",
   "execution_count": 19,
   "metadata": {},
   "outputs": [
    {
     "name": "stderr",
     "output_type": "stream",
     "text": [
      "Downloading data: 100%|██████████| 130M/130M [00:05<00:00, 24.9MB/s] \n"
     ]
    },
    {
     "data": {
      "application/vnd.jupyter.widget-view+json": {
       "model_id": "b441b6fe6b0b4696a86e00bce5672d8f",
       "version_major": 2,
       "version_minor": 0
      },
      "text/plain": [
       "Generating test split:   0%|          | 0/300 [00:00<?, ? examples/s]"
      ]
     },
     "metadata": {},
     "output_type": "display_data"
    }
   ],
   "source": [
    "from datasets import load_dataset\n",
    "\n",
    "# Load the 'Medical Sciences_Anatomy' subset from the 'DomainSpeech' dataset\n",
    "dataset = load_dataset(\"DoSp/DomainSpeech\", \"Medical Sciences_Pediatric Hematology\")"
   ]
  },
  {
   "cell_type": "code",
   "execution_count": 21,
   "metadata": {},
   "outputs": [
    {
     "data": {
      "text/plain": [
       "'They conducted a retrospective analysis of pediatric patients with hemophagocytic lymphohistiocytosis, identifying risk factors associated with poor outcomes.'"
      ]
     },
     "execution_count": 21,
     "metadata": {},
     "output_type": "execute_result"
    }
   ],
   "source": [
    "dataset['test']['sentence'][6]"
   ]
  },
  {
   "cell_type": "code",
   "execution_count": 22,
   "metadata": {},
   "outputs": [],
   "source": [
    "term_sen = \"They conducted pediatric patients with hemophagocytic lymphohistiocytosis, identifying risk factors.\"\n",
    "\n"
   ]
  },
  {
   "cell_type": "code",
   "execution_count": 23,
   "metadata": {},
   "outputs": [
    {
     "name": "stdout",
     "output_type": "stream",
     "text": [
      "yes\n",
      "[NeMo I 2024-04-01 22:04:49 cloud:58] Found existing object /home/kyudan/.cache/torch/NeMo/NeMo_1.23.0/vits_ljspeech_fp16_full/aafc8db3ad2124ec6f77d4d20f3fddaf/vits_ljspeech_fp16_full.nemo.\n",
      "[NeMo I 2024-04-01 22:04:49 cloud:64] Re-using file from: /home/kyudan/.cache/torch/NeMo/NeMo_1.23.0/vits_ljspeech_fp16_full/aafc8db3ad2124ec6f77d4d20f3fddaf/vits_ljspeech_fp16_full.nemo\n",
      "[NeMo I 2024-04-01 22:04:49 common:924] Instantiating model from pre-trained checkpoint\n"
     ]
    },
    {
     "name": "stderr",
     "output_type": "stream",
     "text": [
      " NeMo-text-processing :: INFO     :: Creating ClassifyFst grammars.\n",
      "[NeMo W 2024-04-01 22:05:04 experimental:26] `<class 'nemo.collections.tts.g2p.models.i18n_ipa.IpaG2p'>` is experimental and not ready for production yet. Use at your own risk.\n",
      "[NeMo W 2024-04-01 22:05:05 i18n_ipa:124] apply_to_oov_word=None, This means that some of words will remain unchanged if they are not handled by any of the rules in self.parse_one_word(). This may be intended if phonemes and chars are both valid inputs, otherwise, you may see unexpected deletions in your input.\n",
      "[NeMo W 2024-04-01 22:05:05 experimental:26] `<class 'nemo.collections.common.tokenizers.text_to_speech.tts_tokenizers.IPATokenizer'>` is experimental and not ready for production yet. Use at your own risk.\n",
      "[NeMo W 2024-04-01 22:05:05 modelPT:165] If you intend to do training or fine-tuning, please call the ModelPT.setup_training_data() method and provide a valid configuration file to setup the train data loader.\n",
      "    Train config : \n",
      "    dataset:\n",
      "      _target_: nemo.collections.tts.torch.data.TTSDataset\n",
      "      manifest_filepath: /raid/datasets/tts_data/train_manifest.json\n",
      "      sample_rate: 22050\n",
      "      sup_data_path: null\n",
      "      sup_data_types: null\n",
      "      n_fft: 1024\n",
      "      win_length: 1024\n",
      "      hop_length: 256\n",
      "      window: hann\n",
      "      n_mels: 80\n",
      "      lowfreq: 0\n",
      "      highfreq: null\n",
      "      max_duration: null\n",
      "      min_duration: 0.1\n",
      "      ignore_file: null\n",
      "      trim: false\n",
      "      pitch_fmin: 65.40639132514966\n",
      "      pitch_fmax: 2093.004522404789\n",
      "    dataloader_params:\n",
      "      num_workers: 8\n",
      "      pin_memory: false\n",
      "    batch_sampler:\n",
      "      batch_size: 32\n",
      "      boundaries:\n",
      "      - 32\n",
      "      - 300\n",
      "      - 400\n",
      "      - 500\n",
      "      - 600\n",
      "      - 700\n",
      "      - 800\n",
      "      - 900\n",
      "      - 1000\n",
      "      num_replicas: 8\n",
      "      shuffle: true\n",
      "    \n",
      "[NeMo W 2024-04-01 22:05:05 modelPT:172] If you intend to do validation, please call the ModelPT.setup_validation_data() or ModelPT.setup_multiple_validation_data() method and provide a valid configuration file to setup the validation data loader(s). \n",
      "    Validation config : \n",
      "    dataset:\n",
      "      _target_: nemo.collections.tts.torch.data.TTSDataset\n",
      "      manifest_filepath: /raid/datasets/tts_data/val_manifest.json\n",
      "      sample_rate: 22050\n",
      "      sup_data_path: null\n",
      "      sup_data_types: null\n",
      "      n_fft: 1024\n",
      "      win_length: 1024\n",
      "      hop_length: 256\n",
      "      window: hann\n",
      "      n_mels: 80\n",
      "      lowfreq: 0\n",
      "      highfreq: null\n",
      "      max_duration: null\n",
      "      min_duration: 0.1\n",
      "      ignore_file: null\n",
      "      trim: false\n",
      "      pitch_fmin: 65.40639132514966\n",
      "      pitch_fmax: 2093.004522404789\n",
      "    dataloader_params:\n",
      "      drop_last: false\n",
      "      shuffle: false\n",
      "      batch_size: 16\n",
      "      num_workers: 4\n",
      "      pin_memory: false\n",
      "    \n"
     ]
    },
    {
     "name": "stdout",
     "output_type": "stream",
     "text": [
      "[NeMo I 2024-04-01 22:05:05 features:289] PADDING: 1\n",
      "[NeMo I 2024-04-01 22:05:05 features:297] STFT using exact pad\n"
     ]
    },
    {
     "name": "stderr",
     "output_type": "stream",
     "text": [
      "[NeMo W 2024-04-01 22:05:05 nemo_logging:349] /home/kyudan/anaconda3/envs/nemo/lib/python3.10/site-packages/torch/nn/utils/weight_norm.py:28: UserWarning: torch.nn.utils.weight_norm is deprecated in favor of torch.nn.utils.parametrizations.weight_norm.\n",
      "      warnings.warn(\"torch.nn.utils.weight_norm is deprecated in favor of torch.nn.utils.parametrizations.weight_norm.\")\n",
      "    \n"
     ]
    },
    {
     "name": "stdout",
     "output_type": "stream",
     "text": [
      "[NeMo I 2024-04-01 22:05:07 save_restore_connector:249] Model VitsModel was successfully restored from /home/kyudan/.cache/torch/NeMo/NeMo_1.23.0/vits_ljspeech_fp16_full/aafc8db3ad2124ec6f77d4d20f3fddaf/vits_ljspeech_fp16_full.nemo.\n"
     ]
    },
    {
     "name": "stderr",
     "output_type": "stream",
     "text": [
      "[NeMo W 2024-04-01 22:05:07 vits:148] parse() is meant to be called in eval mode.\n"
     ]
    }
   ],
   "source": [
    "# Load VITS\n",
    "from nemo.collections.tts.models import VitsModel\n",
    "print(\"yes\")\n",
    "audio_generator = VitsModel.from_pretrained(\"tts_en_lj_vits\")\n",
    "\n",
    "import pandas as pd\n",
    "import soundfile as sf\n",
    "import torch\n",
    "from datasets import load_dataset\n",
    "\n",
    "\n",
    "\n",
    "with torch.no_grad():\n",
    "    parsed = audio_generator.parse(term_sen)\n",
    "    audio = audio_generator.convert_text_to_waveform(tokens=parsed)\n",
    "\n",
    "# Save the audio to disk in a file called speech.wav\n",
    "if isinstance(audio, torch.Tensor):\n",
    "    audio = audio.to(\"cpu\").numpy()\n",
    "sf.write(\n",
    "    f\"./audios.wav\", audio.T, 22050, format=\"WAV\"\n",
    ")"
   ]
  },
  {
   "cell_type": "code",
   "execution_count": 25,
   "metadata": {},
   "outputs": [
    {
     "name": "stderr",
     "output_type": "stream",
     "text": [
      "100%|█████████████████████████████████████| 72.1M/72.1M [00:01<00:00, 55.9MiB/s]\n"
     ]
    },
    {
     "name": "stdout",
     "output_type": "stream",
     "text": [
      " They conducted pediatric patients with hemophavocetic lymphocistocytosis, identifying risk factors.\n"
     ]
    }
   ],
   "source": [
    "import whisper\n",
    "\n",
    "file_name = './audios.wav'\n",
    "\n",
    "model = whisper.load_model(\"tiny\")\n",
    "result = model.transcribe(file_name)\n",
    "print(result[\"text\"])\n"
   ]
  },
  {
   "cell_type": "markdown",
   "metadata": {},
   "source": [
    "They conducted pediatric patients with hemophagocytic lymphohistiocytosis, identifying risk factors."
   ]
  },
  {
   "cell_type": "code",
   "execution_count": null,
   "metadata": {},
   "outputs": [],
   "source": []
  }
 ],
 "metadata": {
  "kernelspec": {
   "display_name": "venv",
   "language": "python",
   "name": "python3"
  },
  "language_info": {
   "codemirror_mode": {
    "name": "ipython",
    "version": 3
   },
   "file_extension": ".py",
   "mimetype": "text/x-python",
   "name": "python",
   "nbconvert_exporter": "python",
   "pygments_lexer": "ipython3",
   "version": "3.10.12"
  }
 },
 "nbformat": 4,
 "nbformat_minor": 2
}
