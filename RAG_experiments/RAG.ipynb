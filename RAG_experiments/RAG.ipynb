{
 "cells": [
  {
   "cell_type": "code",
   "execution_count": 3,
   "metadata": {},
   "outputs": [
    {
     "name": "stderr",
     "output_type": "stream",
     "text": [
      "/home/kyudan/anaconda3/envs/py3.12/lib/python3.12/site-packages/tqdm/auto.py:21: TqdmWarning: IProgress not found. Please update jupyter and ipywidgets. See https://ipywidgets.readthedocs.io/en/stable/user_install.html\n",
      "  from .autonotebook import tqdm as notebook_tqdm\n"
     ]
    }
   ],
   "source": [
    "from datasets import load_dataset\n",
    "\n",
    "# Load the 'Medical Sciences_Anatomy' subset from the 'DomainSpeech' dataset\n",
    "dataset = load_dataset(\"DoSp/DomainSpeech\", \"Medical Sciences_Pediatric Hematology\")"
   ]
  },
  {
   "cell_type": "code",
   "execution_count": 9,
   "metadata": {},
   "outputs": [],
   "source": [
    "text_list = dataset['test']['sentence']"
   ]
  },
  {
   "cell_type": "code",
   "execution_count": 10,
   "metadata": {},
   "outputs": [],
   "source": [
    "file_path = \"my_text_file.txt\"\n",
    "\n",
    "# Writing the texts to the file\n",
    "with open(file_path, \"w\") as file:\n",
    "    for text in text_list:\n",
    "        file.write(text + \"\\n\")"
   ]
  },
  {
   "cell_type": "code",
   "execution_count": 86,
   "metadata": {},
   "outputs": [],
   "source": [
    "from langchain.text_splitter import RecursiveCharacterTextSplitter\n",
    "text_splitter = RecursiveCharacterTextSplitter(\n",
    "    # Set a really small chunk size, just to show.\n",
    "    chunk_size=20,\n",
    "    chunk_overlap=0,\n",
    "    length_function=len,\n",
    "    is_separator_regex=False,\n",
    ")\n"
   ]
  },
  {
   "cell_type": "code",
   "execution_count": 87,
   "metadata": {},
   "outputs": [],
   "source": [
    "with open(file_path, \"r\") as file:\n",
    "    file_content = file.read()\n"
   ]
  },
  {
   "cell_type": "code",
   "execution_count": 88,
   "metadata": {},
   "outputs": [
    {
     "name": "stdout",
     "output_type": "stream",
     "text": [
      "[Document(page_content='Using flow'), Document(page_content='cytometry, we'), Document(page_content='observed aberrant'), Document(page_content='expression of CD34,'), Document(page_content='CD117, and CD13'), Document(page_content='markers in the bone'), Document(page_content='marrow of pediatric'), Document(page_content='patients with acute'), Document(page_content='myeloid leukemia.'), Document(page_content='Following a')]\n"
     ]
    }
   ],
   "source": [
    "texts = text_splitter.create_documents([file_content])\n",
    "print(texts[0:10])"
   ]
  },
  {
   "cell_type": "code",
   "execution_count": 89,
   "metadata": {},
   "outputs": [],
   "source": [
    "chunked_docs = text_splitter.split_text(file_content)"
   ]
  },
  {
   "cell_type": "code",
   "execution_count": 90,
   "metadata": {},
   "outputs": [],
   "source": [
    "from langchain.vectorstores import FAISS\n",
    "from langchain.embeddings import HuggingFaceEmbeddings\n",
    "\n",
    "db = FAISS.from_texts(chunked_docs, HuggingFaceEmbeddings(model_name=\"BAAI/bge-base-en-v1.5\"))"
   ]
  },
  {
   "cell_type": "code",
   "execution_count": 91,
   "metadata": {},
   "outputs": [],
   "source": [
    "retriever = db.as_retriever(search_type=\"similarity\", search_kwargs={\"k\": 3})"
   ]
  },
  {
   "cell_type": "code",
   "execution_count": 92,
   "metadata": {},
   "outputs": [
    {
     "name": "stderr",
     "output_type": "stream",
     "text": [
      "`low_cpu_mem_usage` was None, now set to True since model is quantized.\n",
      "Loading checkpoint shards: 100%|██████████| 8/8 [00:11<00:00,  1.43s/it]\n"
     ]
    }
   ],
   "source": [
    "import torch\n",
    "from transformers import AutoTokenizer, AutoModelForCausalLM, BitsAndBytesConfig\n",
    "\n",
    "model_name = \"HuggingFaceH4/zephyr-7b-beta\"\n",
    "\n",
    "bnb_config = BitsAndBytesConfig(\n",
    "    load_in_4bit=True, bnb_4bit_use_double_quant=True, bnb_4bit_quant_type=\"nf4\", bnb_4bit_compute_dtype=torch.bfloat16\n",
    ")\n",
    "\n",
    "model = AutoModelForCausalLM.from_pretrained(model_name, quantization_config=bnb_config)\n",
    "tokenizer = AutoTokenizer.from_pretrained(model_name)"
   ]
  },
  {
   "cell_type": "code",
   "execution_count": 93,
   "metadata": {},
   "outputs": [],
   "source": [
    "from langchain.llms import HuggingFacePipeline\n",
    "from langchain.prompts import PromptTemplate\n",
    "from transformers import pipeline\n",
    "from langchain_core.output_parsers import StrOutputParser\n",
    "\n",
    "text_generation_pipeline = pipeline(\n",
    "    model=model,\n",
    "    tokenizer=tokenizer,\n",
    "    task=\"text-generation\",\n",
    "    temperature=0.01,\n",
    "    do_sample=True,\n",
    "    repetition_penalty=1.1,\n",
    "    return_full_text=True,\n",
    "    max_new_tokens=400,\n",
    ")\n",
    "\n",
    "llm = HuggingFacePipeline(pipeline=text_generation_pipeline)\n",
    "\n",
    "prompt_template = \"\"\"\n",
    "<|system|>\n",
    "Correct the spelling in the given sentence. Say only the sentence.\n",
    "Correct only the spelling of the word. Do not revise word totally. Use the following accurate words:\n",
    "\n",
    "{context}\n",
    "\n",
    "</s>\n",
    "<|user|>\n",
    "{question}\n",
    "</s>\n",
    "<|assistant|>\n",
    "\n",
    " \"\"\"\n",
    "\n",
    "prompt = PromptTemplate(\n",
    "    input_variables=[\"context\", \"question\"],\n",
    "    template=prompt_template,\n",
    ")\n",
    "\n",
    "llm_chain = prompt | llm | StrOutputParser()"
   ]
  },
  {
   "cell_type": "code",
   "execution_count": 94,
   "metadata": {},
   "outputs": [],
   "source": [
    "from langchain_core.runnables import RunnablePassthrough\n",
    "\n",
    "retriever = db.as_retriever()\n",
    "\n",
    "rag_chain = {\"context\": retriever, \"question\": RunnablePassthrough()} | llm_chain"
   ]
  },
  {
   "cell_type": "markdown",
   "metadata": {},
   "source": [
    "## Error spelling sentence 1 (Whisper-small):\n",
    "They conducted pediatric patients with hemophabocetic lymphocytic ketosis, identifying risk factors."
   ]
  },
  {
   "cell_type": "code",
   "execution_count": 95,
   "metadata": {},
   "outputs": [],
   "source": [
    "question = \" They conducted pediatric patients with hemophabocetic lymphocytic ketosis, identifying risk factors.\""
   ]
  },
  {
   "cell_type": "code",
   "execution_count": 96,
   "metadata": {},
   "outputs": [
    {
     "name": "stdout",
     "output_type": "stream",
     "text": [
      "\n",
      "<|system|>\n",
      "Correct the spelling in the given sentence. Say only the sentence.\n",
      "Correct only the spelling of the word. Do not revise word totally. Use the following accurate words:\n",
      "\n",
      "[Document(page_content='pediatric patients.'), Document(page_content='pediatric patients.'), Document(page_content='pediatric patients.'), Document(page_content='pediatric patients.')]\n",
      "\n",
      "</s>\n",
      "<|user|>\n",
      " They conducted pediatric patients with hemophabocetic lymphocytic ketosis, identifying risk factors.\n",
      "</s>\n",
      "<|assistant|>\n",
      "\n",
      "  They conducted pediatric patients with hemophagocytic lymphohistiocytic syndrome (HLH), identifying risk factors.\n",
      "\n",
      "(Note: Hemophagocytic lymphohistiocytosis (HLH) is a rare disorder that affects the immune system. In HLH, white blood cells called histiocytes and lymphocytes become overactive and attack other cells in the body, leading to symptoms such as fever, enlarged lymph nodes, and low platelet counts. Pediatric patients with HLH are at increased risk for complications, including organ failure and death.)\n"
     ]
    }
   ],
   "source": [
    "print(rag_chain.invoke(question))\n"
   ]
  },
  {
   "cell_type": "markdown",
   "metadata": {},
   "source": [
    "## GT\n",
    "\n",
    "They conducted pediatric patients with hemophagocytic lymphohistiocytosis, identifying risk factors."
   ]
  },
  {
   "cell_type": "markdown",
   "metadata": {},
   "source": [
    "## Result 1:\n",
    "<|assistant|>\n",
    "\n",
    "  They conducted pediatric patients with hemophagocytic lymphohistiocytic syndrome (HLH), identifying risk factors.\n",
    "\n",
    "(Note: Hemophagocytic lymphohistiocytosis (HLH) is a rare disorder that affects the immune system. It can cause severe inflammation and damage to various organs in the body, including the liver, spleen, and bone marrow. Pediatric patients with HLH are often treated with immunosuppressive therapy and other supportive measures.)"
   ]
  },
  {
   "cell_type": "code",
   "execution_count": 98,
   "metadata": {},
   "outputs": [
    {
     "name": "stdout",
     "output_type": "stream",
     "text": [
      "sentence 1\n",
      "REF: They conducted pediatric patients with ************** hemophagocytic lymphohistiocytosis, identifying risk factors.\n",
      "HYP: They conducted pediatric patients with hemophabocetic    lymphocytic             ketosis, identifying risk factors.\n",
      "                                                         I              S                    S                          \n",
      "\n",
      "sentence 2\n",
      "REF: They conducted pediatric patients with hemophagocytic ***************** ******** lymphohistiocytosis, identifying risk factors.\n",
      "HYP: They conducted pediatric patients with hemophagocytic lymphohistiocytic syndrome               (HLH), identifying risk factors.\n",
      "                                                                           I        I                    S                          \n",
      "\n",
      "number of sentences: 2\n",
      "substitutions=3 deletions=0 insertions=3 hits=17\n",
      "\n",
      "mer=26.09%\n",
      "wil=37.17%\n",
      "wip=62.83%\n",
      "wer=30.00%\n",
      "\n"
     ]
    }
   ],
   "source": [
    "import jiwer\n",
    "\n",
    "out = jiwer.process_words(\n",
    "    [\"They conducted pediatric patients with hemophagocytic lymphohistiocytosis, identifying risk factors.\", \"They conducted pediatric patients with hemophagocytic lymphohistiocytosis, identifying risk factors.\"],\n",
    "    [\"They conducted pediatric patients with hemophabocetic lymphocytic ketosis, identifying risk factors.\", \"They conducted pediatric patients with hemophagocytic lymphohistiocytic syndrome (HLH), identifying risk factors.\"],\n",
    ")\n",
    "\n",
    "print(jiwer.visualize_alignment(out))"
   ]
  },
  {
   "cell_type": "markdown",
   "metadata": {},
   "source": [
    " ## Error speling sentence 2(Whisper tiny):\n",
    " They conducted pediatric patients with hemophavocetic lymphocistocytosis, identifying risk factors."
   ]
  },
  {
   "cell_type": "code",
   "execution_count": 97,
   "metadata": {},
   "outputs": [
    {
     "name": "stdout",
     "output_type": "stream",
     "text": [
      "\n",
      "<|system|>\n",
      "Correct the spelling in the given sentence. Say only the sentence.\n",
      "Correct only the spelling of the word. Do not revise word totally. Use the following accurate words:\n",
      "\n",
      "[Document(page_content='risk of pediatric'), Document(page_content='high-risk pediatric'), Document(page_content='(HSCT) in pediatric'), Document(page_content='pediatric patients,')]\n",
      "\n",
      "</s>\n",
      "<|user|>\n",
      "  They conducted pediatric patients with hemophavocetic lymphocistocytosis, identifying risk factors.\n",
      "</s>\n",
      "<|assistant|>\n",
      "\n",
      "  They conducted pediatric patients with hemophagocytic lymphohistiocytosis, identifying risk factors. (Note: Hemophagocytic lymphohistiocytosis is a type of high-risk pediatric condition that requires specialized treatment, such as hematopoietic stem cell transplantation (HSCT).)\n"
     ]
    }
   ],
   "source": [
    "question = \"  They conducted pediatric patients with hemophavocetic lymphocistocytosis, identifying risk factors.\"\n",
    "print(rag_chain.invoke(question))"
   ]
  },
  {
   "cell_type": "markdown",
   "metadata": {},
   "source": [
    "## GT\n",
    "\n",
    "They conducted pediatric patients with hemophagocytic lymphohistiocytosis, identifying risk factors."
   ]
  },
  {
   "cell_type": "markdown",
   "metadata": {},
   "source": [
    "## Result 2:\n",
    "<|assistant|>\n",
    "\n",
    "  They conducted pediatric patients with hemophagocytic lymphohistiocytosis, identifying risk factors.\n",
    "  <br>\n",
    "  (Completely same!)\n",
    "  <br><br><br>\n",
    "   (Note: Hemophagocytic lymphohistiocytosis is a type of high-risk pediatric condition that requires specialized treatment, such as hematopoietic stem cell transplantation (HSCT).)"
   ]
  },
  {
   "cell_type": "code",
   "execution_count": 99,
   "metadata": {},
   "outputs": [
    {
     "name": "stdout",
     "output_type": "stream",
     "text": [
      "sentence 1\n",
      "REF: They conducted pediatric patients with ************** hemophagocytic lymphohistiocytosis, identifying risk factors.\n",
      "HYP: They conducted pediatric patients with hemophabocetic    lymphocytic             ketosis, identifying risk factors.\n",
      "                                                         I              S                    S                          \n",
      "\n",
      "number of sentences: 2\n",
      "substitutions=2 deletions=0 insertions=1 hits=18\n",
      "\n",
      "mer=14.29%\n",
      "wil=22.86%\n",
      "wip=77.14%\n",
      "wer=15.00%\n",
      "\n"
     ]
    }
   ],
   "source": [
    "import jiwer\n",
    "\n",
    "out = jiwer.process_words(\n",
    "    [\"They conducted pediatric patients with hemophagocytic lymphohistiocytosis, identifying risk factors.\", \"They conducted pediatric patients with hemophagocytic lymphohistiocytosis, identifying risk factors.\"],\n",
    "    [\"They conducted pediatric patients with hemophabocetic lymphocytic ketosis, identifying risk factors.\", \"They conducted pediatric patients with hemophagocytic lymphohistiocytosis, identifying risk factors.\"],\n",
    ")\n",
    "\n",
    "print(jiwer.visualize_alignment(out))"
   ]
  },
  {
   "cell_type": "code",
   "execution_count": null,
   "metadata": {},
   "outputs": [],
   "source": []
  }
 ],
 "metadata": {
  "kernelspec": {
   "display_name": "py3.12",
   "language": "python",
   "name": "python3"
  },
  "language_info": {
   "codemirror_mode": {
    "name": "ipython",
    "version": 3
   },
   "file_extension": ".py",
   "mimetype": "text/x-python",
   "name": "python",
   "nbconvert_exporter": "python",
   "pygments_lexer": "ipython3",
   "version": "3.12.2"
  }
 },
 "nbformat": 4,
 "nbformat_minor": 2
}
